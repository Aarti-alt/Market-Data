{
  "nbformat": 4,
  "nbformat_minor": 0,
  "metadata": {
    "colab": {
      "name": "market_Data_Modelling.ipynb",
      "provenance": [],
      "collapsed_sections": []
    },
    "kernelspec": {
      "name": "python3",
      "display_name": "Python 3"
    }
  },
  "cells": [
    {
      "cell_type": "markdown",
      "metadata": {
        "id": "ey40At-0BZkS"
      },
      "source": [
        "**Build the Model**\n",
        "\n",
        "Once you have clear data and a good understanding of how each attribute relates to each other. You are ready to move on to the next step that is building the model. Model building is basically part of *Machine Learning*. *Machine learning* models have the ability to learn from the data automatically and improve its outcome without human intervention. Depending on the type of questions you want to answer there are many different types of modeling algorithms available. \n",
        "*Machine Learning* is basically divided into two types Supervised and Unsupervised Learning. \n",
        "- Supervised learning involves modelling labelled data, labelled data have predefined classes in which objects are assigned.\n",
        "An example which can clarify it more is- categoriziging email as spam and not spam. If you notice Gmail ask you to classify email as spam or not this is labellng data and later with the same Gmail itself predicts spam emails for you. Similarly, you can have labelled data as per the domain you are working.  I hope you have got an understanding what is labelled data.\n",
        "Once model is build it can be used to predict values from unknown and unlabelled data. Further techniques in suprevised machine learning are classigication to classify discrete categories, the above example of classifying email as spam or not is an example of classification.\n",
        "Another is regression that works on continuous data values. We will understand Regression in more detail in this section.\n",
        "\n",
        "- Another machine learning algorithm is unsupervised learning, as the name suggest it works on unlabelled data, data which doesn't have predefined classes/labels. It can be further categorize into- Clustering which group objects on the basis of similiratities and Association which finds relationships between the attributes in the dataset. Market Basket Analysis is an example of association. Some other unsupervised algorithms are Neural networks, Apriori algorithm etc.\n",
        "\n",
        "\n"
      ]
    },
    {
      "cell_type": "markdown",
      "metadata": {
        "id": "Nr4tvi3sNB7r"
      },
      "source": [
        "To move with *Data Modelling*: \n",
        "\n",
        "- *first* find out what you question you want to answer. Acoording to that identify the modelling technique and attributes that you will fed the model.\n",
        "- *Second* Generate the model.\n",
        "- *Third* Compare the generated models.\n",
        "\n",
        "Now, let's move with data modelling with the market data. The aim is to find out \"Quantity\" to be sold to generate a particular amount of revenue \"Gross Income\". Thus, this is a regression problem. You must have learned about regression in your mathematics or statistics class.\n",
        "\n",
        "The formula for regression is : `y=mx+c`\n",
        "*where m is slope, c is the intercept, y is dependent variable and x is independent  variable.* \n",
        "\n",
        "\n",
        "You can choose different as per the insight you want to get from data. One problem n the same dataset could be to classify customers on the basis of their contribution in the revenue geeration of the company. This is a curicial step to understand your regular customers and retain them. For this problem, you'll first have to label the data and then further on the labelled data generate classification model that can be used further for unknown dataset.\n",
        "\n",
        "\n"
      ]
    },
    {
      "cell_type": "markdown",
      "metadata": {
        "id": "Ka1u5vkZSOEl"
      },
      "source": [
        "Keeping that aside, let's import libraries required for data modelling,for regression we will use the library Scikit-learn. This is the library used majorly for machine learning in python. It also contain few inbuilt dataset that you can work on. "
      ]
    },
    {
      "cell_type": "code",
      "metadata": {
        "id": "R8cn7H7qimtc"
      },
      "source": [
        " # Libraries required\n",
        "from sklearn.model_selection import train_test_split\n",
        "from sklearn.linear_model import LinearRegression\n",
        "from sklearn import preprocessing\n",
        "from sklearn.model_selection import cross_val_score\n",
        "from sklearn import metrics\n",
        "import statistics as st\n",
        "import datetime as dt\n",
        "import matplotlib.pyplot as plt\n",
        "import seaborn as sns"
      ],
      "execution_count": null,
      "outputs": []
    },
    {
      "cell_type": "code",
      "metadata": {
        "id": "wZeZiVtNjDlk",
        "colab": {
          "base_uri": "https://localhost:8080/",
          "height": 343
        },
        "outputId": "dad1cc17-5eef-41d9-8ec5-57642a83e135"
      },
      "source": [
        "#pandas is a library for data manipulation and analysis\n",
        "import pandas as pd\n",
        "import numpy as np\n",
        "#reading dataset\n",
        "df = pd.read_csv(\"/content/supermarket_sales.csv\")\n",
        "#check dataset\n",
        "df.head()\n"
      ],
      "execution_count": null,
      "outputs": [
        {
          "output_type": "execute_result",
          "data": {
            "text/html": [
              "<div>\n",
              "<style scoped>\n",
              "    .dataframe tbody tr th:only-of-type {\n",
              "        vertical-align: middle;\n",
              "    }\n",
              "\n",
              "    .dataframe tbody tr th {\n",
              "        vertical-align: top;\n",
              "    }\n",
              "\n",
              "    .dataframe thead th {\n",
              "        text-align: right;\n",
              "    }\n",
              "</style>\n",
              "<table border=\"1\" class=\"dataframe\">\n",
              "  <thead>\n",
              "    <tr style=\"text-align: right;\">\n",
              "      <th></th>\n",
              "      <th>Invoice ID</th>\n",
              "      <th>Branch</th>\n",
              "      <th>City</th>\n",
              "      <th>Customer type</th>\n",
              "      <th>Gender</th>\n",
              "      <th>Product line</th>\n",
              "      <th>Unit price</th>\n",
              "      <th>Quantity</th>\n",
              "      <th>Tax 5%</th>\n",
              "      <th>Total</th>\n",
              "      <th>Date</th>\n",
              "      <th>Time</th>\n",
              "      <th>Payment</th>\n",
              "      <th>cogs</th>\n",
              "      <th>gross margin percentage</th>\n",
              "      <th>gross income</th>\n",
              "      <th>Rating</th>\n",
              "    </tr>\n",
              "  </thead>\n",
              "  <tbody>\n",
              "    <tr>\n",
              "      <th>0</th>\n",
              "      <td>750-67-8428</td>\n",
              "      <td>A</td>\n",
              "      <td>Yangon</td>\n",
              "      <td>Member</td>\n",
              "      <td>Female</td>\n",
              "      <td>Health and beauty</td>\n",
              "      <td>74.69</td>\n",
              "      <td>7</td>\n",
              "      <td>26.1415</td>\n",
              "      <td>548.9715</td>\n",
              "      <td>1/5/2019</td>\n",
              "      <td>13:08</td>\n",
              "      <td>Ewallet</td>\n",
              "      <td>522.83</td>\n",
              "      <td>4.761905</td>\n",
              "      <td>26.1415</td>\n",
              "      <td>9.1</td>\n",
              "    </tr>\n",
              "    <tr>\n",
              "      <th>1</th>\n",
              "      <td>226-31-3081</td>\n",
              "      <td>C</td>\n",
              "      <td>Naypyitaw</td>\n",
              "      <td>Normal</td>\n",
              "      <td>Female</td>\n",
              "      <td>Electronic accessories</td>\n",
              "      <td>15.28</td>\n",
              "      <td>5</td>\n",
              "      <td>3.8200</td>\n",
              "      <td>80.2200</td>\n",
              "      <td>3/8/2019</td>\n",
              "      <td>10:29</td>\n",
              "      <td>Cash</td>\n",
              "      <td>76.40</td>\n",
              "      <td>4.761905</td>\n",
              "      <td>3.8200</td>\n",
              "      <td>9.6</td>\n",
              "    </tr>\n",
              "    <tr>\n",
              "      <th>2</th>\n",
              "      <td>631-41-3108</td>\n",
              "      <td>A</td>\n",
              "      <td>Yangon</td>\n",
              "      <td>Normal</td>\n",
              "      <td>Male</td>\n",
              "      <td>Home and lifestyle</td>\n",
              "      <td>46.33</td>\n",
              "      <td>7</td>\n",
              "      <td>16.2155</td>\n",
              "      <td>340.5255</td>\n",
              "      <td>3/3/2019</td>\n",
              "      <td>13:23</td>\n",
              "      <td>Credit card</td>\n",
              "      <td>324.31</td>\n",
              "      <td>4.761905</td>\n",
              "      <td>16.2155</td>\n",
              "      <td>7.4</td>\n",
              "    </tr>\n",
              "    <tr>\n",
              "      <th>3</th>\n",
              "      <td>123-19-1176</td>\n",
              "      <td>A</td>\n",
              "      <td>Yangon</td>\n",
              "      <td>Member</td>\n",
              "      <td>Male</td>\n",
              "      <td>Health and beauty</td>\n",
              "      <td>58.22</td>\n",
              "      <td>8</td>\n",
              "      <td>23.2880</td>\n",
              "      <td>489.0480</td>\n",
              "      <td>1/27/2019</td>\n",
              "      <td>20:33</td>\n",
              "      <td>Ewallet</td>\n",
              "      <td>465.76</td>\n",
              "      <td>4.761905</td>\n",
              "      <td>23.2880</td>\n",
              "      <td>8.4</td>\n",
              "    </tr>\n",
              "    <tr>\n",
              "      <th>4</th>\n",
              "      <td>373-73-7910</td>\n",
              "      <td>A</td>\n",
              "      <td>Yangon</td>\n",
              "      <td>Normal</td>\n",
              "      <td>Male</td>\n",
              "      <td>Sports and travel</td>\n",
              "      <td>86.31</td>\n",
              "      <td>7</td>\n",
              "      <td>30.2085</td>\n",
              "      <td>634.3785</td>\n",
              "      <td>2/8/2019</td>\n",
              "      <td>10:37</td>\n",
              "      <td>Ewallet</td>\n",
              "      <td>604.17</td>\n",
              "      <td>4.761905</td>\n",
              "      <td>30.2085</td>\n",
              "      <td>5.3</td>\n",
              "    </tr>\n",
              "  </tbody>\n",
              "</table>\n",
              "</div>"
            ],
            "text/plain": [
              "    Invoice ID Branch       City  ... gross margin percentage gross income Rating\n",
              "0  750-67-8428      A     Yangon  ...                4.761905      26.1415    9.1\n",
              "1  226-31-3081      C  Naypyitaw  ...                4.761905       3.8200    9.6\n",
              "2  631-41-3108      A     Yangon  ...                4.761905      16.2155    7.4\n",
              "3  123-19-1176      A     Yangon  ...                4.761905      23.2880    8.4\n",
              "4  373-73-7910      A     Yangon  ...                4.761905      30.2085    5.3\n",
              "\n",
              "[5 rows x 17 columns]"
            ]
          },
          "metadata": {
            "tags": []
          },
          "execution_count": 262
        }
      ]
    },
    {
      "cell_type": "code",
      "metadata": {
        "id": "tNNDWACxjGFY",
        "colab": {
          "base_uri": "https://localhost:8080/",
          "height": 34
        },
        "outputId": "03fcf8eb-de02-4402-d38a-5d71a5514cb9"
      },
      "source": [
        "#change date column to datetime as it is taken as object\n",
        "df['Date'] = pd.to_datetime(df['Date'])\n",
        "#lets check Dtype of column date\n",
        "print(df['Date'].dtype)"
      ],
      "execution_count": null,
      "outputs": [
        {
          "output_type": "stream",
          "text": [
            "datetime64[ns]\n"
          ],
          "name": "stdout"
        }
      ]
    },
    {
      "cell_type": "markdown",
      "metadata": {
        "id": "KYpTZOYwVGUX"
      },
      "source": [
        "As, we are moving with *Linear Regression*, first is to choose one independent variable and one dependent variable. As per our aim to identify \"Quantity\" on the basis of revenue \"Gross Income\". Hence, dependent variable is *Quantity* and independent variable is *Gross Income*."
      ]
    },
    {
      "cell_type": "code",
      "metadata": {
        "id": "utSkhU5jx8BT"
      },
      "source": [
        "#Subsetting data for Linear Regression\n",
        "x = df[['gross income']]\n",
        "y = df ['Quantity']"
      ],
      "execution_count": null,
      "outputs": []
    },
    {
      "cell_type": "markdown",
      "metadata": {
        "id": "zAobR_s3ZrLD"
      },
      "source": [
        "Once x and y variables are identified, split them into training and testing data. Training data is over which data would be trained and testing data is over which fit model would be tested. Here, We are splitting data on 80:20 split. Make sure that your data is large enough to get good meaningful results. Also, test and training set should belong to the same dataset. "
      ]
    },
    {
      "cell_type": "code",
      "metadata": {
        "id": "ipb802h2j5Bu"
      },
      "source": [
        "#Splitting data into test and training data\n",
        "x_train, x_test, y_train, y_test = train_test_split(x, y, test_size=0.2, random_state=0)"
      ],
      "execution_count": null,
      "outputs": []
    },
    {
      "cell_type": "code",
      "metadata": {
        "id": "dXQejUT8kNZc",
        "colab": {
          "base_uri": "https://localhost:8080/",
          "height": 51
        },
        "outputId": "8bae7005-80b0-405a-c155-d51ba8ec71e4"
      },
      "source": [
        "#shape of the training and testing data\n",
        "print(\"training data:\",x_train.shape)\n",
        "print(\"testing data:\",x_test.shape)"
      ],
      "execution_count": null,
      "outputs": [
        {
          "output_type": "stream",
          "text": [
            "training data: (800, 1)\n",
            "testing data: (200, 1)\n"
          ],
          "name": "stdout"
        }
      ]
    },
    {
      "cell_type": "code",
      "metadata": {
        "id": "dorI45XYj6JD",
        "colab": {
          "base_uri": "https://localhost:8080/",
          "height": 34
        },
        "outputId": "13143ea1-e424-4aa0-f5f1-63fc13936f06"
      },
      "source": [
        "#fit model\n",
        "data = LinearRegression( )  \n",
        "data.fit(x_train, y_train)\n"
      ],
      "execution_count": null,
      "outputs": [
        {
          "output_type": "execute_result",
          "data": {
            "text/plain": [
              "LinearRegression(copy_X=True, fit_intercept=True, n_jobs=None, normalize=False)"
            ]
          },
          "metadata": {
            "tags": []
          },
          "execution_count": 252
        }
      ]
    },
    {
      "cell_type": "code",
      "metadata": {
        "id": "mj1buHB1W4e1",
        "colab": {
          "base_uri": "https://localhost:8080/",
          "height": 34
        },
        "outputId": "672eb243-93fe-4d9f-ab99-44bdd27b57cf"
      },
      "source": [
        "print(\"Model Slope:\",data.coef_)"
      ],
      "execution_count": null,
      "outputs": [
        {
          "output_type": "stream",
          "text": [
            "Model Slope: [0.17693728]\n"
          ],
          "name": "stdout"
        }
      ]
    },
    {
      "cell_type": "code",
      "metadata": {
        "id": "PVCYmLMdY-Ke",
        "colab": {
          "base_uri": "https://localhost:8080/",
          "height": 34
        },
        "outputId": "5e30291a-c00a-4cab-bc70-f6a4fd04448b"
      },
      "source": [
        "print(\"Model intercept:\",data.intercept_)"
      ],
      "execution_count": null,
      "outputs": [
        {
          "output_type": "stream",
          "text": [
            "Model intercept: 2.7736610470448335\n"
          ],
          "name": "stdout"
        }
      ]
    },
    {
      "cell_type": "code",
      "metadata": {
        "id": "rUS_8bldj_rZ"
      },
      "source": [
        "#predict\n",
        "y_pred = data.predict(x_test)\n"
      ],
      "execution_count": null,
      "outputs": []
    },
    {
      "cell_type": "code",
      "metadata": {
        "id": "aBa1SEPzoV8n",
        "colab": {
          "base_uri": "https://localhost:8080/",
          "height": 359
        },
        "outputId": "f9984d33-7e96-415f-b1c7-0d90f1344467"
      },
      "source": [
        "df= pd.DataFrame({'Actual': y_test, 'Predicted': y_pred})\n",
        "df.head(10)"
      ],
      "execution_count": null,
      "outputs": [
        {
          "output_type": "execute_result",
          "data": {
            "text/html": [
              "<div>\n",
              "<style scoped>\n",
              "    .dataframe tbody tr th:only-of-type {\n",
              "        vertical-align: middle;\n",
              "    }\n",
              "\n",
              "    .dataframe tbody tr th {\n",
              "        vertical-align: top;\n",
              "    }\n",
              "\n",
              "    .dataframe thead th {\n",
              "        text-align: right;\n",
              "    }\n",
              "</style>\n",
              "<table border=\"1\" class=\"dataframe\">\n",
              "  <thead>\n",
              "    <tr style=\"text-align: right;\">\n",
              "      <th></th>\n",
              "      <th>Actual</th>\n",
              "      <th>Predicted</th>\n",
              "    </tr>\n",
              "  </thead>\n",
              "  <tbody>\n",
              "    <tr>\n",
              "      <th>993</th>\n",
              "      <td>10</td>\n",
              "      <td>4.320978</td>\n",
              "    </tr>\n",
              "    <tr>\n",
              "      <th>859</th>\n",
              "      <td>9</td>\n",
              "      <td>6.566046</td>\n",
              "    </tr>\n",
              "    <tr>\n",
              "      <th>298</th>\n",
              "      <td>4</td>\n",
              "      <td>4.897262</td>\n",
              "    </tr>\n",
              "    <tr>\n",
              "      <th>553</th>\n",
              "      <td>6</td>\n",
              "      <td>3.952594</td>\n",
              "    </tr>\n",
              "    <tr>\n",
              "      <th>672</th>\n",
              "      <td>3</td>\n",
              "      <td>4.722006</td>\n",
              "    </tr>\n",
              "    <tr>\n",
              "      <th>971</th>\n",
              "      <td>7</td>\n",
              "      <td>5.059425</td>\n",
              "    </tr>\n",
              "    <tr>\n",
              "      <th>27</th>\n",
              "      <td>2</td>\n",
              "      <td>4.324870</td>\n",
              "    </tr>\n",
              "    <tr>\n",
              "      <th>231</th>\n",
              "      <td>3</td>\n",
              "      <td>3.054726</td>\n",
              "    </tr>\n",
              "    <tr>\n",
              "      <th>306</th>\n",
              "      <td>7</td>\n",
              "      <td>5.265026</td>\n",
              "    </tr>\n",
              "    <tr>\n",
              "      <th>706</th>\n",
              "      <td>4</td>\n",
              "      <td>4.295322</td>\n",
              "    </tr>\n",
              "  </tbody>\n",
              "</table>\n",
              "</div>"
            ],
            "text/plain": [
              "     Actual  Predicted\n",
              "993      10   4.320978\n",
              "859       9   6.566046\n",
              "298       4   4.897262\n",
              "553       6   3.952594\n",
              "672       3   4.722006\n",
              "971       7   5.059425\n",
              "27        2   4.324870\n",
              "231       3   3.054726\n",
              "306       7   5.265026\n",
              "706       4   4.295322"
            ]
          },
          "metadata": {
            "tags": []
          },
          "execution_count": 257
        }
      ]
    },
    {
      "cell_type": "code",
      "metadata": {
        "id": "64j_9PwxXEuA",
        "colab": {
          "base_uri": "https://localhost:8080/",
          "height": 51
        },
        "outputId": "988bec91-6aac-4568-a3c7-29c85b99bb44"
      },
      "source": [
        "print(\"Actual Quantity:\",y_test.sum())\n",
        "print(\"Predicted Quantity:\",y_pred.sum())"
      ],
      "execution_count": null,
      "outputs": [
        {
          "output_type": "stream",
          "text": [
            "Actual Quantity: 1109\n",
            "Predicted Quantity: 1093.84480402307\n"
          ],
          "name": "stdout"
        }
      ]
    },
    {
      "cell_type": "code",
      "metadata": {
        "id": "20Wr9u3DmRnV",
        "colab": {
          "base_uri": "https://localhost:8080/",
          "height": 68
        },
        "outputId": "f5ba0bdd-81d6-43e5-b26e-580b3c355b42"
      },
      "source": [
        "print('Mean Absolute Error:', metrics.mean_absolute_error(y_test, y_pred))  \n",
        "print('Mean Square Error:', metrics.mean_squared_error(y_test, y_pred))  \n",
        "print('Root Mean Square Error:', np.sqrt(metrics.mean_squared_error(y_test, y_pred)))"
      ],
      "execution_count": null,
      "outputs": [
        {
          "output_type": "stream",
          "text": [
            "Mean Absolute Error: 1.6160936307749183\n",
            "Mean Square Error: 4.039677805235893\n",
            "Root Mean Square Error: 2.009894973682927\n"
          ],
          "name": "stdout"
        }
      ]
    },
    {
      "cell_type": "code",
      "metadata": {
        "id": "KGZZj9MRu_-3",
        "colab": {
          "base_uri": "https://localhost:8080/",
          "height": 34
        },
        "outputId": "e1b927cc-0acc-406e-b225-ec332318daa7"
      },
      "source": [
        "from sklearn.metrics import r2_score\n",
        "print('coefficient of determination(R-Square of the model):', r2_score(y_test, y_pred))"
      ],
      "execution_count": null,
      "outputs": [
        {
          "output_type": "stream",
          "text": [
            "coefficient of determination(R-Square of the model): 0.5090313466878675\n"
          ],
          "name": "stdout"
        }
      ]
    },
    {
      "cell_type": "code",
      "metadata": {
        "id": "CPD4CB_qt2Cm",
        "colab": {
          "base_uri": "https://localhost:8080/",
          "height": 34
        },
        "outputId": "6e106763-336a-43ec-f37c-174fa49851ee"
      },
      "source": [
        "from sklearn.metrics import max_error\n",
        "max_error(y_test, y_pred)"
      ],
      "execution_count": null,
      "outputs": [
        {
          "output_type": "execute_result",
          "data": {
            "text/plain": [
              "5.828534421434526"
            ]
          },
          "metadata": {
            "tags": []
          },
          "execution_count": 260
        }
      ]
    },
    {
      "cell_type": "markdown",
      "metadata": {
        "id": "wBsDpaPimGi-"
      },
      "source": [
        "Now, let's try out Multiple linear regression Model. In Multiple linear regression, you can choose more than one dependent variable.\n",
        "\n",
        "The equation for multiple linear regression looks like-\n",
        "`y=m1x1+m2x2...+m(n)x(n)+c`"
      ]
    },
    {
      "cell_type": "code",
      "metadata": {
        "id": "PnslpwRVmNC8"
      },
      "source": [
        " # subsetting variables\n",
        "new = df[['Branch','Product line','Unit price', 'Quantity','gross income']]"
      ],
      "execution_count": null,
      "outputs": []
    },
    {
      "cell_type": "code",
      "metadata": {
        "id": "jVMjdS_ImjkA",
        "colab": {
          "base_uri": "https://localhost:8080/",
          "height": 119
        },
        "outputId": "b15d322c-3977-4f52-ebc0-880b81af1fff"
      },
      "source": [
        "# Create a set of dummy variables from the categorical variables\n",
        "new1=pd.get_dummies(new, columns=['Branch','Product line'])\n",
        "new1.columns\n"
      ],
      "execution_count": null,
      "outputs": [
        {
          "output_type": "execute_result",
          "data": {
            "text/plain": [
              "Index(['Unit price', 'Quantity', 'gross income', 'Branch_A', 'Branch_B',\n",
              "       'Branch_C', 'Product line_Electronic accessories',\n",
              "       'Product line_Fashion accessories', 'Product line_Food and beverages',\n",
              "       'Product line_Health and beauty', 'Product line_Home and lifestyle',\n",
              "       'Product line_Sports and travel'],\n",
              "      dtype='object')"
            ]
          },
          "metadata": {
            "tags": []
          },
          "execution_count": 264
        }
      ]
    },
    {
      "cell_type": "code",
      "metadata": {
        "id": "hFsQCy8jmnXb"
      },
      "source": [
        "X = new1[['Unit price', 'gross income',\n",
        "        'Branch_A', 'Branch_B','Branch_C', 'Product line_Electronic accessories',\n",
        "        'Product line_Fashion accessories', 'Product line_Food and beverages',\n",
        "        'Product line_Health and beauty', 'Product line_Home and lifestyle','Product line_Sports and travel']]\n",
        "\n"
      ],
      "execution_count": null,
      "outputs": []
    },
    {
      "cell_type": "code",
      "metadata": {
        "id": "4tLu3MFPmsZ_"
      },
      "source": [
        "x_ = new1[['Unit price', 'gross income',\n",
        "        'Branch_A', 'Branch_B','Branch_C', 'Product line_Electronic accessories',\n",
        "        'Product line_Fashion accessories', 'Product line_Food and beverages',\n",
        "        'Product line_Health and beauty', 'Product line_Home and lifestyle','Product line_Sports and travel']].values\n",
        "        \n",
        "y_ =  new1['Quantity'].values"
      ],
      "execution_count": null,
      "outputs": []
    },
    {
      "cell_type": "code",
      "metadata": {
        "id": "XwYuelr-mw49"
      },
      "source": [
        "train_x, test_x, train_y, test_y = train_test_split(x_, y_, test_size=0.2, random_state=0)"
      ],
      "execution_count": null,
      "outputs": []
    },
    {
      "cell_type": "code",
      "metadata": {
        "id": "OTdW2Fdcm7vX"
      },
      "source": [
        "#Generate model\n",
        "data_reg = LinearRegression()  \n"
      ],
      "execution_count": null,
      "outputs": []
    },
    {
      "cell_type": "code",
      "metadata": {
        "id": "HKQezCAA7vsb"
      },
      "source": [
        "# fit model\n",
        "results=data_reg.fit(train_x, train_y)"
      ],
      "execution_count": null,
      "outputs": []
    },
    {
      "cell_type": "code",
      "metadata": {
        "id": "s4Q6AYiQn4IP"
      },
      "source": [
        "#predict\n",
        "pred_y = data_reg.predict(test_x)"
      ],
      "execution_count": null,
      "outputs": []
    },
    {
      "cell_type": "code",
      "metadata": {
        "id": "JQxAw-uxn95y",
        "colab": {
          "base_uri": "https://localhost:8080/",
          "height": 359
        },
        "outputId": "2a1ff281-2fb7-4930-b1cd-4c051e65e9a9"
      },
      "source": [
        "new_df= pd.DataFrame({'Actual': test_y, 'Predicted': pred_y})\n",
        "NW = new_df.head(15)\n",
        "new_df.head(10)"
      ],
      "execution_count": null,
      "outputs": [
        {
          "output_type": "execute_result",
          "data": {
            "text/html": [
              "<div>\n",
              "<style scoped>\n",
              "    .dataframe tbody tr th:only-of-type {\n",
              "        vertical-align: middle;\n",
              "    }\n",
              "\n",
              "    .dataframe tbody tr th {\n",
              "        vertical-align: top;\n",
              "    }\n",
              "\n",
              "    .dataframe thead th {\n",
              "        text-align: right;\n",
              "    }\n",
              "</style>\n",
              "<table border=\"1\" class=\"dataframe\">\n",
              "  <thead>\n",
              "    <tr style=\"text-align: right;\">\n",
              "      <th></th>\n",
              "      <th>Actual</th>\n",
              "      <th>Predicted</th>\n",
              "    </tr>\n",
              "  </thead>\n",
              "  <tbody>\n",
              "    <tr>\n",
              "      <th>0</th>\n",
              "      <td>10</td>\n",
              "      <td>6.644509</td>\n",
              "    </tr>\n",
              "    <tr>\n",
              "      <th>1</th>\n",
              "      <td>9</td>\n",
              "      <td>7.926120</td>\n",
              "    </tr>\n",
              "    <tr>\n",
              "      <th>2</th>\n",
              "      <td>4</td>\n",
              "      <td>4.119328</td>\n",
              "    </tr>\n",
              "    <tr>\n",
              "      <th>3</th>\n",
              "      <td>6</td>\n",
              "      <td>5.738307</td>\n",
              "    </tr>\n",
              "    <tr>\n",
              "      <th>4</th>\n",
              "      <td>3</td>\n",
              "      <td>2.860868</td>\n",
              "    </tr>\n",
              "    <tr>\n",
              "      <th>5</th>\n",
              "      <td>7</td>\n",
              "      <td>6.247536</td>\n",
              "    </tr>\n",
              "    <tr>\n",
              "      <th>6</th>\n",
              "      <td>2</td>\n",
              "      <td>0.964683</td>\n",
              "    </tr>\n",
              "    <tr>\n",
              "      <th>7</th>\n",
              "      <td>3</td>\n",
              "      <td>5.258493</td>\n",
              "    </tr>\n",
              "    <tr>\n",
              "      <th>8</th>\n",
              "      <td>7</td>\n",
              "      <td>6.473455</td>\n",
              "    </tr>\n",
              "    <tr>\n",
              "      <th>9</th>\n",
              "      <td>4</td>\n",
              "      <td>4.675414</td>\n",
              "    </tr>\n",
              "  </tbody>\n",
              "</table>\n",
              "</div>"
            ],
            "text/plain": [
              "   Actual  Predicted\n",
              "0      10   6.644509\n",
              "1       9   7.926120\n",
              "2       4   4.119328\n",
              "3       6   5.738307\n",
              "4       3   2.860868\n",
              "5       7   6.247536\n",
              "6       2   0.964683\n",
              "7       3   5.258493\n",
              "8       7   6.473455\n",
              "9       4   4.675414"
            ]
          },
          "metadata": {
            "tags": []
          },
          "execution_count": 294
        }
      ]
    },
    {
      "cell_type": "code",
      "metadata": {
        "id": "4PKrmJkF29Y_",
        "colab": {
          "base_uri": "https://localhost:8080/",
          "height": 51
        },
        "outputId": "32baf0f6-1256-42d3-c317-e43a15bb2e28"
      },
      "source": [
        "print(\"Actual Quantity:\",test_y.sum())\n",
        "print(\"Predicted Quantity:\",pred_y.sum())"
      ],
      "execution_count": null,
      "outputs": [
        {
          "output_type": "stream",
          "text": [
            "Actual Quantity: 1109\n",
            "Predicted Quantity: 1117.5342425481858\n"
          ],
          "name": "stdout"
        }
      ]
    },
    {
      "cell_type": "code",
      "metadata": {
        "id": "hvNCmvxGn_f0",
        "colab": {
          "base_uri": "https://localhost:8080/",
          "height": 68
        },
        "outputId": "4556dbfb-aaa4-4037-cd32-39dbd572391d"
      },
      "source": [
        "print('Mean Absolute Error:', metrics.mean_absolute_error(test_y, pred_y))  \n",
        "print('Mean Squared Error:', metrics.mean_squared_error(test_y, pred_y))  \n",
        "print('Root Mean Squared Error:', np.sqrt(metrics.mean_squared_error(test_y, pred_y)))"
      ],
      "execution_count": null,
      "outputs": [
        {
          "output_type": "stream",
          "text": [
            "Mean Absolute Error: 0.8892876819154968\n",
            "Mean Squared Error: 1.5345063051340884\n",
            "Root Mean Squared Error: 1.2387519142806958\n"
          ],
          "name": "stdout"
        }
      ]
    },
    {
      "cell_type": "code",
      "metadata": {
        "id": "gtA9J_s1oE1d",
        "colab": {
          "base_uri": "https://localhost:8080/",
          "height": 34
        },
        "outputId": "52658855-6909-48b5-8d1c-cc295ca40b01"
      },
      "source": [
        "print(\"coefficient of determination (R-Square of the model):\",r2_score(test_y, pred_y))"
      ],
      "execution_count": null,
      "outputs": [
        {
          "output_type": "stream",
          "text": [
            "coefficient of determination (R-Square of the model): 0.8135013408361003\n"
          ],
          "name": "stdout"
        }
      ]
    },
    {
      "cell_type": "code",
      "metadata": {
        "id": "yGiSmdjQoJDN",
        "colab": {
          "base_uri": "https://localhost:8080/",
          "height": 34
        },
        "outputId": "32a1c821-d9af-48f0-b1c9-79cf380625fd"
      },
      "source": [
        "max_error(test_y, pred_y)"
      ],
      "execution_count": null,
      "outputs": [
        {
          "output_type": "execute_result",
          "data": {
            "text/plain": [
              "3.5648907017768536"
            ]
          },
          "metadata": {
            "tags": []
          },
          "execution_count": 298
        }
      ]
    },
    {
      "cell_type": "markdown",
      "metadata": {
        "id": "dBjtCufisq28"
      },
      "source": [
        "Let's try out Random Forest :"
      ]
    },
    {
      "cell_type": "code",
      "metadata": {
        "id": "E4XV0RFAbOFV"
      },
      "source": [
        "#importing libraries for random forest\n",
        "from sklearn.ensemble import RandomForestRegressor\n",
        "from sklearn.metrics import mean_absolute_error\n",
        "from sklearn.model_selection import RepeatedKFold\n",
        "from numpy import mean\n",
        "from numpy import std\n",
        "\n",
        "\n"
      ],
      "execution_count": null,
      "outputs": []
    },
    {
      "cell_type": "code",
      "metadata": {
        "id": "ODGf0gfKlIYZ"
      },
      "source": [
        "#Generating Model\n",
        "model = RandomForestRegressor(random_state = 1)\n",
        "cv = RepeatedKFold(n_splits=10, n_repeats=5, random_state=0)\n",
        "n_scores = cross_val_score(model, train_x, train_y, scoring='neg_mean_absolute_error', cv=cv, n_jobs=-1, error_score='raise')\n",
        "\n"
      ],
      "execution_count": null,
      "outputs": []
    },
    {
      "cell_type": "code",
      "metadata": {
        "id": "m_SpQYdjlGhC",
        "colab": {
          "base_uri": "https://localhost:8080/",
          "height": 34
        },
        "outputId": "b040cc81-7efd-46a8-b19e-e269526cc97b"
      },
      "source": [
        "# model performance\n",
        "print('MAE: %.3f (%.3f)' % (mean(n_scores), std(n_scores)))"
      ],
      "execution_count": null,
      "outputs": [
        {
          "output_type": "stream",
          "text": [
            "MAE: -0.164 (0.025)\n"
          ],
          "name": "stdout"
        }
      ]
    },
    {
      "cell_type": "code",
      "metadata": {
        "id": "4lc_ZQXlESCc",
        "colab": {
          "base_uri": "https://localhost:8080/",
          "height": 136
        },
        "outputId": "b54999b0-2bc3-4c71-abc8-ed53faf18152"
      },
      "source": [
        "# model fit\n",
        "model.fit(train_x,train_y)\n",
        "\n"
      ],
      "execution_count": null,
      "outputs": [
        {
          "output_type": "execute_result",
          "data": {
            "text/plain": [
              "RandomForestRegressor(bootstrap=True, ccp_alpha=0.0, criterion='mse',\n",
              "                      max_depth=None, max_features='auto', max_leaf_nodes=None,\n",
              "                      max_samples=None, min_impurity_decrease=0.0,\n",
              "                      min_impurity_split=None, min_samples_leaf=1,\n",
              "                      min_samples_split=2, min_weight_fraction_leaf=0.0,\n",
              "                      n_estimators=100, n_jobs=None, oob_score=False,\n",
              "                      random_state=1, verbose=0, warm_start=False)"
            ]
          },
          "metadata": {
            "tags": []
          },
          "execution_count": 320
        }
      ]
    },
    {
      "cell_type": "code",
      "metadata": {
        "id": "htv35P5n7VcM"
      },
      "source": [
        "#predict value\n",
        "predicted_value = model.predict(test_x)"
      ],
      "execution_count": null,
      "outputs": []
    },
    {
      "cell_type": "code",
      "metadata": {
        "id": "zwKiQLAKurgD",
        "colab": {
          "base_uri": "https://localhost:8080/",
          "height": 359
        },
        "outputId": "fad22ee5-360e-4d80-f10d-db8cbc79e48d"
      },
      "source": [
        "new_df= pd.DataFrame({'Actual': test_y, 'Predicted': predicted_value})\n",
        "NW = new_df.head(15)\n",
        "new_df.head(10)"
      ],
      "execution_count": null,
      "outputs": [
        {
          "output_type": "execute_result",
          "data": {
            "text/html": [
              "<div>\n",
              "<style scoped>\n",
              "    .dataframe tbody tr th:only-of-type {\n",
              "        vertical-align: middle;\n",
              "    }\n",
              "\n",
              "    .dataframe tbody tr th {\n",
              "        vertical-align: top;\n",
              "    }\n",
              "\n",
              "    .dataframe thead th {\n",
              "        text-align: right;\n",
              "    }\n",
              "</style>\n",
              "<table border=\"1\" class=\"dataframe\">\n",
              "  <thead>\n",
              "    <tr style=\"text-align: right;\">\n",
              "      <th></th>\n",
              "      <th>Actual</th>\n",
              "      <th>Predicted</th>\n",
              "    </tr>\n",
              "  </thead>\n",
              "  <tbody>\n",
              "    <tr>\n",
              "      <th>0</th>\n",
              "      <td>10</td>\n",
              "      <td>9.57</td>\n",
              "    </tr>\n",
              "    <tr>\n",
              "      <th>1</th>\n",
              "      <td>9</td>\n",
              "      <td>8.97</td>\n",
              "    </tr>\n",
              "    <tr>\n",
              "      <th>2</th>\n",
              "      <td>4</td>\n",
              "      <td>4.09</td>\n",
              "    </tr>\n",
              "    <tr>\n",
              "      <th>3</th>\n",
              "      <td>6</td>\n",
              "      <td>6.14</td>\n",
              "    </tr>\n",
              "    <tr>\n",
              "      <th>4</th>\n",
              "      <td>3</td>\n",
              "      <td>3.34</td>\n",
              "    </tr>\n",
              "    <tr>\n",
              "      <th>5</th>\n",
              "      <td>7</td>\n",
              "      <td>6.83</td>\n",
              "    </tr>\n",
              "    <tr>\n",
              "      <th>6</th>\n",
              "      <td>2</td>\n",
              "      <td>2.00</td>\n",
              "    </tr>\n",
              "    <tr>\n",
              "      <th>7</th>\n",
              "      <td>3</td>\n",
              "      <td>2.40</td>\n",
              "    </tr>\n",
              "    <tr>\n",
              "      <th>8</th>\n",
              "      <td>7</td>\n",
              "      <td>6.97</td>\n",
              "    </tr>\n",
              "    <tr>\n",
              "      <th>9</th>\n",
              "      <td>4</td>\n",
              "      <td>3.91</td>\n",
              "    </tr>\n",
              "  </tbody>\n",
              "</table>\n",
              "</div>"
            ],
            "text/plain": [
              "   Actual  Predicted\n",
              "0      10       9.57\n",
              "1       9       8.97\n",
              "2       4       4.09\n",
              "3       6       6.14\n",
              "4       3       3.34\n",
              "5       7       6.83\n",
              "6       2       2.00\n",
              "7       3       2.40\n",
              "8       7       6.97\n",
              "9       4       3.91"
            ]
          },
          "metadata": {
            "tags": []
          },
          "execution_count": 315
        }
      ]
    },
    {
      "cell_type": "code",
      "metadata": {
        "id": "rWO6q5HN7AWF",
        "colab": {
          "base_uri": "https://localhost:8080/",
          "height": 51
        },
        "outputId": "d5fc1f2d-bef6-4c7c-a32b-2832fb63544c"
      },
      "source": [
        "print(\"Actual Quantity:\",test_y.sum())\n",
        "print(\"Predicted Quantity:\",predicted_value.sum())"
      ],
      "execution_count": null,
      "outputs": [
        {
          "output_type": "stream",
          "text": [
            "Actual Quantity: 1109\n",
            "Predicted Quantity: 1101.6799999999998\n"
          ],
          "name": "stdout"
        }
      ]
    },
    {
      "cell_type": "code",
      "metadata": {
        "id": "N9CZYe_w95BO",
        "colab": {
          "base_uri": "https://localhost:8080/",
          "height": 68
        },
        "outputId": "a66050eb-3da0-497d-a7df-bf249229481c"
      },
      "source": [
        "print('Mean Absolute Error:', metrics.mean_absolute_error(test_y, predicted_value))  \n",
        "print('Mean Squared Error:', metrics.mean_squared_error(test_y, predicted_value))  \n",
        "print('Root Mean Squared Error:', np.sqrt(metrics.mean_squared_error(test_y,predicted_value)))"
      ],
      "execution_count": null,
      "outputs": [
        {
          "output_type": "stream",
          "text": [
            "Mean Absolute Error: 0.15119999999999997\n",
            "Mean Squared Error: 0.05467999999999999\n",
            "Root Mean Squared Error: 0.23383755044902432\n"
          ],
          "name": "stdout"
        }
      ]
    },
    {
      "cell_type": "code",
      "metadata": {
        "id": "IeY33ygl3doV",
        "colab": {
          "base_uri": "https://localhost:8080/",
          "height": 486
        },
        "outputId": "c233531a-08c1-4ec8-9d6d-cf3aa0ebfb92"
      },
      "source": [
        "NW.plot(kind='bar',figsize=(10,8))\n",
        "plt.grid(which='major', linestyle='-', linewidth='0.5', color='green')\n",
        "plt.grid(which='minor', linestyle=':', linewidth='0.5', color='black')\n",
        "plt.show()"
      ],
      "execution_count": null,
      "outputs": [
        {
          "output_type": "display_data",
          "data": {
            "image/png": "[encoded data removed]",
            "text/plain": [
              "<Figure size 720x576 with 1 Axes>"
            ]
          },
          "metadata": {
            "tags": [],
            "needs_background": "light"
          }
        }
      ]
    },
    {
      "cell_type": "markdown",
      "metadata": {
        "id": "QQtGnz25APHa"
      },
      "source": [
        "#### Model Comparison:\n",
        "\n",
        "We have created three different models: \n",
        "\n",
        "1. Linear regression mode with Mean Absolute Error: 1.16 and\n",
        "Root Mean Square Error(RMSE): 2.01.\n",
        "2. Multiple linear regression with Mean Absolute Error: 0.89 and Root Mean Squared Error: 1.24.\n",
        "3. Random Forest regression with Mean Absolute Error: 0.15 and Root Mean Squared Error: 0.23.\n",
        "\n",
        "The lower the error values, better is the model. Hence, model with Random forest regression is the best model out of the three. We can even work more, adjust values to make it better. Also, the more better quantity and quality of the dataset to train, much better would be the model.\n",
        "\n",
        "This is how, you can work with python."
      ]
    }
  ]
}